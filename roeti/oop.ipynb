{
 "cells": [
  {
   "cell_type": "code",
   "execution_count": 13,
   "id": "3ef6b6d1",
   "metadata": {},
   "outputs": [
    {
     "name": "stdout",
     "output_type": "stream",
     "text": [
      "This method cannot be called\n",
      "This method cannot be called\n"
     ]
    },
    {
     "data": {
      "text/plain": [
       "'Woof'"
      ]
     },
     "execution_count": 13,
     "metadata": {},
     "output_type": "execute_result"
    }
   ],
   "source": [
    "class animal():\n",
    "    def __init__(self, name):\n",
    "        self.name = name\n",
    "        self.__cannot_be_called__()\n",
    "        \n",
    "    def __repr__(self):\n",
    "        return f\"Animal({self.name})\"\n",
    "\n",
    "    def __str__(self):\n",
    "        return f\"Animal: {self.name}\"\n",
    "    \n",
    "    def __cannot_be_called__(self):\n",
    "        print(\"This method cannot be called\")\n",
    "    \n",
    "    def make__sound__(self):\n",
    "        return \"Some sound\"\n",
    "    \n",
    "    \n",
    "class dog(animal):\n",
    "    def __init__(self, name):\n",
    "        super().__init__(name)\n",
    "    \n",
    "    def __str__(self):\n",
    "        return f\"Dog: {self.name}\"\n",
    "    \n",
    "    def make__sound__(self):\n",
    "        return \"Woof\" \n",
    "    \n",
    "cat = animal(\"cat\")\n",
    "dog = dog(\"dog\")\n",
    "\n",
    "dog.make__sound__()  "
   ]
  },
  {
   "cell_type": "code",
   "execution_count": null,
   "id": "6c8d4c5d",
   "metadata": {},
   "outputs": [
    {
     "name": "stdout",
     "output_type": "stream",
     "text": [
      "This method cannot be called\n"
     ]
    },
    {
     "ename": "",
     "evalue": "",
     "output_type": "error",
     "traceback": [
      "\u001b[1;31mDer Kernel ist beim Ausführen von Code in der aktuellen Zelle oder einer vorherigen Zelle abgestürzt. \n",
      "\u001b[1;31mBitte überprüfen Sie den Code in der/den Zelle(n), um eine mögliche Fehlerursache zu identifizieren. \n",
      "\u001b[1;31mKlicken Sie <a href='https://aka.ms/vscodeJupyterKernelCrash'>hier</a>, um weitere Informationen zu erhalten. \n",
      "\u001b[1;31mWeitere Informationen finden Sie unter Jupyter <a href='command:jupyter.viewOutput'>Protokoll</a>."
     ]
    }
   ],
   "source": [
    "cat.make__sound__()\n",
    "cat.__init__(\"name\")"
   ]
  }
 ],
 "metadata": {
  "kernelspec": {
   "display_name": "Python 3",
   "language": "python",
   "name": "python3"
  },
  "language_info": {
   "codemirror_mode": {
    "name": "ipython",
    "version": 3
   },
   "file_extension": ".py",
   "mimetype": "text/x-python",
   "name": "python",
   "nbconvert_exporter": "python",
   "pygments_lexer": "ipython3",
   "version": "3.12.7"
  }
 },
 "nbformat": 4,
 "nbformat_minor": 5
}
